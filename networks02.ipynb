{
 "cells": [
  {
   "cell_type": "markdown",
   "metadata": {},
   "source": [
    "### CS4423 - Networks\n",
    "Prof. Götz Pfeiffer<br />\n",
    "School of Mathematics, Statistics and Applied Mathematics<br />\n",
    "NUI Galway"
   ]
  },
  {
   "cell_type": "markdown",
   "metadata": {},
   "source": [
    "#### 1. Graphs and Graph Theory\n",
    "\n",
    "# Lecture 2: Graphs and `networkx`"
   ]
  },
  {
   "cell_type": "markdown",
   "metadata": {},
   "source": [
    "<div class=\"alert alert-success\">\n",
    "    A <b>graph</b> can serve as a mathematical model of a network.\n",
    "</div>"
   ]
  },
  {
   "cell_type": "markdown",
   "metadata": {},
   "source": [
    "* We will use the `networkx` package to work with examples of graphs and networks.\n",
    "\n",
    "* This notebook gives and introduction into graph theory, along with some basic, useful\n",
    "  `networkx` commands.\n",
    "\n",
    "* From now on, we load some `python` packages at the start of each\n",
    "  notebook, so we have them available later on."
   ]
  },
  {
   "cell_type": "code",
   "execution_count": 1,
   "metadata": {},
   "outputs": [],
   "source": [
    "# Loading the networkx as nx\n",
    "import networkx as nx"
   ]
  },
  {
   "cell_type": "markdown",
   "metadata": {},
   "source": [
    "##  The Internet, for Example"
   ]
  },
  {
   "cell_type": "markdown",
   "metadata": {},
   "source": [
    "**Example.**  The internet in December 1970.  Nodes are computers,\n",
    "connected by a link if they can directly communicate with each other.\n",
    "At the time, only 13 computers participated in that network.\n",
    "\n",
    "![the internet in december 1970](https://d1vq4hxutb7n2b.cloudfront.net/system/files/53b5c1/66342b8248f70002ea/h_1536/f7dec1970.jpg)\n"
   ]
  },
  {
   "cell_type": "markdown",
   "metadata": {},
   "source": [
    "As far as the network structure is concerned, the following list of **adjacencies** contains all the information."
   ]
  },
  {
   "cell_type": "code",
   "execution_count": 3,
   "metadata": {},
   "outputs": [
    {
     "name": "stdout",
     "output_type": "stream",
     "text": [
      "UCSB SRI UCLA\r\n",
      "SRI UCLA STAN UTAH\r\n",
      "UCLA STAN RAND\r\n",
      "UTAH SDC MIT\r\n",
      "RAND SDC BBN\r\n",
      "MIT BBN LINC\r\n",
      "BBN HARV\r\n",
      "LINC CASE\r\n",
      "HARV CARN\r\n",
      "CASE CARN\r\n"
     ]
    }
   ],
   "source": [
    "# Printing the list of adjacencies from a file\n",
    "!cat data/arpa.adj"
   ]
  },
  {
   "cell_type": "markdown",
   "metadata": {},
   "source": [
    "The following **diagram**, built from the adjacenies in the list,\n",
    "contains the same information, without the distracting details of the\n",
    "US geography."
   ]
  },
  {
   "cell_type": "code",
   "execution_count": 8,
   "metadata": {},
   "outputs": [
    {
     "data": {
      "image/png": "[encoded data removed]",
      "text/plain": [
       "<Figure size 432x288 with 1 Axes>"
      ]
     },
     "metadata": {},
     "output_type": "display_data"
    }
   ],
   "source": [
    "# Reading the graphs structure from the file\n",
    "H = nx.read_adjlist(\"data/arpa.adj\") # file should have .adj extension\n",
    "\n",
    "# Making dictionary of options/parameters\n",
    "opts = { \"with_labels\": True, # fow showing labels\n",
    "        \"node_color\": 'y' } # for colours\n",
    "\n",
    "# Drawing the graph\n",
    "nx.draw(H,\n",
    "        **opts) # attaching dictionary"
   ]
  },
  {
   "cell_type": "markdown",
   "metadata": {},
   "source": [
    "## Simple Graphs"
   ]
  },
  {
   "cell_type": "markdown",
   "metadata": {},
   "source": [
    "<div class=\"alert alert-danger\">\n",
    "    <b>Definition.</b> A (simple) <b>graph</b>\n",
    "is a pair $G = (X, E)$, consisting of a (finite) set $X$ of\n",
    "    objects, called <b>nodes</b> or <b>vertices</b> or <b>points</b>,\n",
    "and a subset $E \\subseteq \\binom{X}{2}$\n",
    "    of <b>links</b> or <b>edges</b>.\n",
    "</div>"
   ]
  },
  {
   "cell_type": "markdown",
   "metadata": {},
   "source": [
    "Usually, $n$ is used to denote the number of vertices of a graph,\n",
    "$n = |X|$,\n",
    "and $m$ for the number of edges, $m = |E|$.\n",
    "\n",
    "$n = |X|$ is called the **order** of the graph $G$, and $m = |E|$ is called the  **size** of $G$.\n",
    "\n",
    "Here, $\\binom{X}{2}$, pronounced as \"$X$ choose 2\",\n",
    "is the set of all $2$-element subsets of $X$.\n",
    "(The notation is motivated by the fact that if $X$ has $n$ elements then\n",
    "$\\binom{X}{2}$ has $\\binom{n}{2} = \\frac12 n(n-1)$ elements:\n",
    "$$\\left|\\binom{X}{2}\\right| = \\binom{|X|}{2}.$$\n",
    "Obviously, $m \\leq \\binom{n}{2}$."
   ]
  },
  {
   "cell_type": "markdown",
   "metadata": {},
   "source": [
    "**Example.**\n",
    "$X = \\{ A, B, C, D \\}$ and $E = \\{ AB, BC, BD, CD \\}$\n",
    "(where $AB$ is short for $\\{ A, B \\}$)."
   ]
  },
  {
   "cell_type": "markdown",
   "metadata": {},
   "source": [
    "##  Simple Graphs in `networkx`"
   ]
  },
  {
   "cell_type": "markdown",
   "metadata": {},
   "source": [
    "* In `networkx`, we can construct this graph with the `Graph`\n",
    "constructor function, which takes the node and edge sets $X$ and $E$ in a variety of formats.  \n",
    "* Here, we use $2$-letter strings for \n",
    "the edges (which implicitly gives the nodes too): "
   ]
  },
  {
   "cell_type": "code",
   "execution_count": null,
   "metadata": {},
   "outputs": [],
   "source": [
    "G = nx.Graph([\"AB\", \"BC\", \"BD\", \"CD\"])"
   ]
  },
  {
   "cell_type": "markdown",
   "metadata": {},
   "source": [
    "* The `python` object `G` representing the graph $G$ has lots of useful attributes.  Firstly, it has `nodes` and `edges`."
   ]
  },
  {
   "cell_type": "code",
   "execution_count": null,
   "metadata": {},
   "outputs": [],
   "source": [
    "G.nodes"
   ]
  },
  {
   "cell_type": "code",
   "execution_count": null,
   "metadata": {},
   "outputs": [],
   "source": [
    "list(G.nodes)"
   ]
  },
  {
   "cell_type": "code",
   "execution_count": null,
   "metadata": {
    "slideshow": {
     "slide_type": "fragment"
    }
   },
   "outputs": [],
   "source": [
    "G.edges"
   ]
  },
  {
   "cell_type": "code",
   "execution_count": null,
   "metadata": {},
   "outputs": [],
   "source": [
    "list(G.edges)"
   ]
  },
  {
   "cell_type": "markdown",
   "metadata": {},
   "source": [
    "* A **loop** over a graph `G` will effectively loop over `G`'s nodes."
   ]
  },
  {
   "cell_type": "code",
   "execution_count": null,
   "metadata": {},
   "outputs": [],
   "source": [
    "for node in G:\n",
    "    print(node)"
   ]
  },
  {
   "cell_type": "markdown",
   "metadata": {},
   "source": [
    "* We can count the nodes, and the edges."
   ]
  },
  {
   "cell_type": "code",
   "execution_count": null,
   "metadata": {
    "slideshow": {
     "slide_type": "fragment"
    }
   },
   "outputs": [],
   "source": [
    "G.number_of_nodes()"
   ]
  },
  {
   "cell_type": "code",
   "execution_count": null,
   "metadata": {},
   "outputs": [],
   "source": [
    "G.order()"
   ]
  },
  {
   "cell_type": "code",
   "execution_count": null,
   "metadata": {},
   "outputs": [],
   "source": [
    "G.number_of_edges()"
   ]
  },
  {
   "cell_type": "code",
   "execution_count": null,
   "metadata": {},
   "outputs": [],
   "source": [
    "G.size()"
   ]
  },
  {
   "cell_type": "markdown",
   "metadata": {},
   "source": [
    "* And a drawing of the graph can be produced."
   ]
  },
  {
   "cell_type": "code",
   "execution_count": null,
   "metadata": {},
   "outputs": [],
   "source": [
    "nx.draw(G, **opts)"
   ]
  },
  {
   "cell_type": "markdown",
   "metadata": {},
   "source": [
    "* The example also illustrates a typical way how diagrams of graphs are drawn:\n",
    "nodes are represented by small circles, and edges by lines connecting the nodes."
   ]
  },
  {
   "cell_type": "markdown",
   "metadata": {},
   "source": [
    "* A graph `G` can be modified, by adding nodes one at a time ..."
   ]
  },
  {
   "cell_type": "code",
   "execution_count": null,
   "metadata": {},
   "outputs": [],
   "source": [
    "G.add_node(1)\n",
    "list(G.nodes)"
   ]
  },
  {
   "cell_type": "markdown",
   "metadata": {},
   "source": [
    "* ... or many nodes at once ..."
   ]
  },
  {
   "cell_type": "code",
   "execution_count": null,
   "metadata": {},
   "outputs": [],
   "source": [
    "G.add_nodes_from([2, 3, 5])\n",
    "list(G.nodes)"
   ]
  },
  {
   "cell_type": "markdown",
   "metadata": {},
   "source": [
    "* ... or even as nodes of another graph `H`"
   ]
  },
  {
   "cell_type": "code",
   "execution_count": null,
   "metadata": {},
   "outputs": [],
   "source": [
    "G.add_nodes_from(H)\n",
    "print(list(G.nodes))"
   ]
  },
  {
   "cell_type": "code",
   "execution_count": null,
   "metadata": {},
   "outputs": [],
   "source": [
    "G.order(), G.size()"
   ]
  },
  {
   "cell_type": "markdown",
   "metadata": {},
   "source": [
    "* Adding edges works in a similar fashion"
   ]
  },
  {
   "cell_type": "code",
   "execution_count": null,
   "metadata": {},
   "outputs": [],
   "source": [
    "G.add_edge(1,2)\n",
    "list(G.edges)"
   ]
  },
  {
   "cell_type": "code",
   "execution_count": null,
   "metadata": {},
   "outputs": [],
   "source": [
    "edge = (2,3)\n",
    "G.add_edge(*edge)\n",
    "list(G.edges)"
   ]
  },
  {
   "cell_type": "code",
   "execution_count": null,
   "metadata": {},
   "outputs": [],
   "source": [
    "G.add_edges_from([(1,5), (2,5), (3,5)])\n",
    "print(list(G.edges))"
   ]
  },
  {
   "cell_type": "code",
   "execution_count": null,
   "metadata": {
    "slideshow": {
     "slide_type": "fragment"
    }
   },
   "outputs": [],
   "source": [
    "G.add_edges_from(H.edges)\n",
    "print(list(G.edges))"
   ]
  },
  {
   "cell_type": "code",
   "execution_count": null,
   "metadata": {},
   "outputs": [],
   "source": [
    "nx.draw(G, **opts)"
   ]
  },
  {
   "cell_type": "code",
   "execution_count": null,
   "metadata": {},
   "outputs": [],
   "source": [
    "G.order(), G.size()"
   ]
  },
  {
   "cell_type": "markdown",
   "metadata": {},
   "source": [
    "* There are corresponding commands for removing nodes or edges from a graph `G`"
   ]
  },
  {
   "cell_type": "code",
   "execution_count": null,
   "metadata": {},
   "outputs": [],
   "source": [
    "G.remove_edge(3,5)\n",
    "G.order(), G.size()"
   ]
  },
  {
   "cell_type": "code",
   "execution_count": null,
   "metadata": {},
   "outputs": [],
   "source": [
    "G.remove_edges_from(H.edges())\n",
    "\n",
    "G.order(), G.size()"
   ]
  },
  {
   "cell_type": "code",
   "execution_count": null,
   "metadata": {},
   "outputs": [],
   "source": [
    "nx.draw(G, **opts)"
   ]
  },
  {
   "cell_type": "code",
   "execution_count": null,
   "metadata": {
    "slideshow": {
     "slide_type": "fragment"
    }
   },
   "outputs": [],
   "source": [
    "G.remove_nodes_from(H)\n",
    "nx.draw(G, **opts)"
   ]
  },
  {
   "cell_type": "markdown",
   "metadata": {},
   "source": [
    "* Removing a node will silently delete all edges it forms part of"
   ]
  },
  {
   "cell_type": "code",
   "execution_count": null,
   "metadata": {},
   "outputs": [],
   "source": [
    "G.remove_nodes_from([1, 2, 3, 5])\n",
    "G.order(), G.size()"
   ]
  },
  {
   "cell_type": "code",
   "execution_count": null,
   "metadata": {},
   "outputs": [],
   "source": [
    "nx.draw(G, **opts)"
   ]
  },
  {
   "cell_type": "markdown",
   "metadata": {},
   "source": [
    "* Each node has a list of **neighbors**, the nodes it is\n",
    "  directly connected to by an edge of the graph."
   ]
  },
  {
   "cell_type": "code",
   "execution_count": null,
   "metadata": {},
   "outputs": [],
   "source": [
    "list(G.neighbors('B'))"
   ]
  },
  {
   "cell_type": "code",
   "execution_count": null,
   "metadata": {
    "slideshow": {
     "slide_type": "fragment"
    }
   },
   "outputs": [],
   "source": [
    "G['B']"
   ]
  },
  {
   "cell_type": "code",
   "execution_count": null,
   "metadata": {},
   "outputs": [],
   "source": [
    "list(G['B'])"
   ]
  },
  {
   "cell_type": "markdown",
   "metadata": {},
   "source": [
    "* The number of neighbors of node $x$ is its **degree**"
   ]
  },
  {
   "cell_type": "code",
   "execution_count": null,
   "metadata": {},
   "outputs": [],
   "source": [
    "G.degree('B')"
   ]
  },
  {
   "cell_type": "code",
   "execution_count": null,
   "metadata": {},
   "outputs": [],
   "source": [
    "G.degree"
   ]
  },
  {
   "cell_type": "code",
   "execution_count": null,
   "metadata": {},
   "outputs": [],
   "source": [
    "list(G.degree)"
   ]
  },
  {
   "cell_type": "markdown",
   "metadata": {},
   "source": [
    "## Examples"
   ]
  },
  {
   "cell_type": "markdown",
   "metadata": {},
   "source": [
    "### Complete Graphs\n",
    "\n",
    "The [**complete graph**](https://en.wikipedia.org/wiki/Complete_graph)\n",
    "on a vertex set $X$ is the graph with edge set all of $\\binom{X}{2}$.\n",
    "\n",
    "While it is somewhat straight-forward to find all $2$-element\n",
    "subsets of a given set $X$ with a short `python` program,\n",
    "it is probably more convenient (and possibly efficient) to use a function from the\n",
    "`itertools` package for this purpose."
   ]
  },
  {
   "cell_type": "code",
   "execution_count": null,
   "metadata": {},
   "outputs": [],
   "source": [
    "nodes = range(5)\n",
    "print(nodes)\n",
    "print(list(nodes))"
   ]
  },
  {
   "cell_type": "code",
   "execution_count": null,
   "metadata": {},
   "outputs": [],
   "source": [
    "from itertools import combinations\n",
    "print(combinations(nodes, 2))\n",
    "print(list(combinations(nodes, 2)))"
   ]
  },
  {
   "cell_type": "code",
   "execution_count": null,
   "metadata": {},
   "outputs": [],
   "source": [
    "K5 = nx.Graph(combinations(nodes, 2))"
   ]
  },
  {
   "cell_type": "code",
   "execution_count": null,
   "metadata": {},
   "outputs": [],
   "source": [
    "nx.draw(K5, **opts)"
   ]
  },
  {
   "cell_type": "markdown",
   "metadata": {},
   "source": [
    "We can turn this procedure into a `python` function that\n",
    "constructs the complete graph for an arbitrary vertex set $X$."
   ]
  },
  {
   "cell_type": "code",
   "execution_count": null,
   "metadata": {},
   "outputs": [],
   "source": [
    "def complete_graph(nodes):\n",
    "    return nx.Graph(combinations(nodes, 2))"
   ]
  },
  {
   "cell_type": "code",
   "execution_count": null,
   "metadata": {},
   "outputs": [],
   "source": [
    "nx.draw(complete_graph(range(3)), **opts)"
   ]
  },
  {
   "cell_type": "code",
   "execution_count": null,
   "metadata": {},
   "outputs": [],
   "source": [
    "nx.draw(complete_graph(range(4)), **opts)"
   ]
  },
  {
   "cell_type": "code",
   "execution_count": null,
   "metadata": {},
   "outputs": [],
   "source": [
    "nx.draw(complete_graph(range(5)), **opts)"
   ]
  },
  {
   "cell_type": "code",
   "execution_count": null,
   "metadata": {},
   "outputs": [],
   "source": [
    "nx.draw(complete_graph(range(6)), **opts)"
   ]
  },
  {
   "cell_type": "markdown",
   "metadata": {},
   "source": [
    "### Petersen Graph\n",
    "\n",
    "The [Petersen Graph](https://en.wikipedia.org/wiki/Petersen_graph)\n",
    "is a graph on $10$ vertices with $15$ edges.\n",
    "It can be constructed \n",
    "as the complement of the line graph of the complete graph $K_5$,\n",
    "i.e.,\n",
    "as the graph with vertex set\n",
    "$X = \\binom{\\{0,1,2,3,4\\}}{2}$ (the edge set of $K_5$)\n",
    "with an edge between $x, y \\in X$ whenever $x \\cap y = \\emptyset$."
   ]
  },
  {
   "cell_type": "code",
   "execution_count": null,
   "metadata": {},
   "outputs": [],
   "source": [
    "nodes = K5.edges\n",
    "print(list(combinations(nodes, 2)))"
   ]
  },
  {
   "cell_type": "code",
   "execution_count": null,
   "metadata": {},
   "outputs": [],
   "source": [
    "edges = [e for e in combinations(nodes, 2) \n",
    "           if not set(e[0]) & set(e[1])]\n",
    "len(edges)"
   ]
  },
  {
   "cell_type": "code",
   "execution_count": null,
   "metadata": {},
   "outputs": [],
   "source": [
    "P = nx.Graph(edges)"
   ]
  },
  {
   "cell_type": "code",
   "execution_count": null,
   "metadata": {},
   "outputs": [],
   "source": [
    "nx.draw(P, **opts)"
   ]
  },
  {
   "cell_type": "markdown",
   "metadata": {},
   "source": [
    "Even though there is no parameter involved in this example,\n",
    "it might be worth wrapping the construction up into a `python`\n",
    "function."
   ]
  },
  {
   "cell_type": "code",
   "execution_count": null,
   "metadata": {},
   "outputs": [],
   "source": [
    "def petersen_graph():\n",
    "    nodes = combinations(range(5), 2)\n",
    "    G = nx.Graph()\n",
    "    for e in combinations(nodes, 2):\n",
    "        if not set(e[0]) & set(e[1]):\n",
    "            G.add_edge(*e)\n",
    "    return G"
   ]
  },
  {
   "cell_type": "code",
   "execution_count": null,
   "metadata": {},
   "outputs": [],
   "source": [
    "nx.draw(petersen_graph(), **opts)"
   ]
  },
  {
   "cell_type": "markdown",
   "metadata": {},
   "source": [
    "##  Code Corner"
   ]
  },
  {
   "cell_type": "markdown",
   "metadata": {},
   "source": [
    "### `python`"
   ]
  },
  {
   "cell_type": "markdown",
   "metadata": {},
   "source": [
    "* **dictionary unpacking** operator `**opts`: `python` function calls take **positional** arguments and **keyword** arguments.  \n",
    "  The keyword arguments can be collected in a dictionary `opts` (with the keywords as keys).  \n",
    "  This dictionary can then be passed into the function call in its \"unwrapped\" form `**opts`."
   ]
  },
  {
   "cell_type": "markdown",
   "metadata": {},
   "source": [
    "* `list` [[doc]](https://docs.python.org/3/library/stdtypes.html#list) turns its argument into a `python` list (if possible)."
   ]
  },
  {
   "cell_type": "code",
   "execution_count": null,
   "metadata": {},
   "outputs": [],
   "source": [
    "list(\"networks\")"
   ]
  },
  {
   "cell_type": "markdown",
   "metadata": {},
   "source": [
    "* **list comprehension** [[doc]](https://docs.python.org/3/tutorial/datastructures.html#list-comprehensions) allows the construction of new list from old ones\n",
    "without explicit `for` loops (or `if` statements)."
   ]
  },
  {
   "cell_type": "code",
   "execution_count": null,
   "metadata": {},
   "outputs": [],
   "source": [
    "[(x, y) for x in range(4) for y in range(4) if x < y]"
   ]
  },
  {
   "cell_type": "markdown",
   "metadata": {},
   "source": [
    "### `networkx`"
   ]
  },
  {
   "cell_type": "markdown",
   "metadata": {},
   "source": [
    "* the `read_adjlist` command [doc] constructs a graph from a text file in `adj` format."
   ]
  },
  {
   "cell_type": "markdown",
   "metadata": {},
   "source": [
    "* `G.nodes` [doc] returns the nodes of a graph `G` (as an iterator)."
   ]
  },
  {
   "cell_type": "markdown",
   "metadata": {},
   "source": [
    "* `G.edges` [doc] returns the edges of a graph `G` (as an iterator)."
   ]
  },
  {
   "cell_type": "markdown",
   "metadata": {},
   "source": [
    "### `itertools`"
   ]
  },
  {
   "cell_type": "markdown",
   "metadata": {},
   "source": [
    "* `combinations` [[doc]](https://docs.python.org/3/library/itertools.html#itertools.combinations) returns the $k$-element combinations of a given list (as an iterator)."
   ]
  },
  {
   "cell_type": "code",
   "execution_count": null,
   "metadata": {},
   "outputs": [],
   "source": [
    "print([\"\".join(c) for c in combinations(\"networks\", 2)])"
   ]
  },
  {
   "cell_type": "markdown",
   "metadata": {},
   "source": [
    "##  Exercises"
   ]
  },
  {
   "cell_type": "markdown",
   "metadata": {},
   "source": [
    "1. Using list comprehension (and the `python` mod operator `%`)\n",
    "   construct a multiplication table for integers mod $7$, i.e.,\n",
    "   a $7 \\times 7$ array with entry `a * b % 7` in row `a` and\n",
    "   column `b`.\n",
    "2. Find a way to use list comprehension for \n",
    "   listing all $2$-element subsets of $\\{0, 1, 2, 3\\}$\n",
    "   (as above) without using an `if`-clause.\n",
    "1. Write a `python` function that constructs and returns\n",
    "   a [cycle graph](https://en.wikipedia.org/wiki/Cycle_graph)\n",
    "   on $n$ vertices.\n",
    "   \n",
    "2. In the internet graph `H` from above, add the\n",
    "   degree of each node as an attribute to the node."
   ]
  },
  {
   "cell_type": "code",
   "execution_count": null,
   "metadata": {},
   "outputs": [],
   "source": []
  }
 ],
 "metadata": {
  "kernelspec": {
   "display_name": "Python 3",
   "language": "python",
   "name": "python3"
  },
  "language_info": {
   "codemirror_mode": {
    "name": "ipython",
    "version": 3
   },
   "file_extension": ".py",
   "mimetype": "text/x-python",
   "name": "python",
   "nbconvert_exporter": "python",
   "pygments_lexer": "ipython3",
   "version": "3.8.5"
  }
 },
 "nbformat": 4,
 "nbformat_minor": 1
}
