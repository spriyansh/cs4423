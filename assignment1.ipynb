{
 "cells": [
  {
   "cell_type": "markdown",
   "metadata": {},
   "source": [
    "### CS4423 - Networks\n",
    "Prof. Götz Pfeiffer<br />\n",
    "School of Mathematics, Statistics and Applied Mathematics<br />\n",
    "NUI Galway"
   ]
  },
  {
   "cell_type": "markdown",
   "metadata": {},
   "source": [
    "# Assignment 1"
   ]
  },
  {
   "cell_type": "markdown",
   "metadata": {},
   "source": [
    "Provide answers to the problems in the boxes provided.  Marks will be awarded for\n",
    "participation and engagement.\n",
    "\n",
    "When finished, print this notebook into a **pdf** file and submit this to\n",
    "**blackboard**.\n",
    "\n",
    "**Deadline** is next Monday at 5pm."
   ]
  },
  {
   "cell_type": "markdown",
   "metadata": {},
   "source": [
    "## Setup"
   ]
  },
  {
   "cell_type": "markdown",
   "metadata": {},
   "source": [
    "This is a `jupyter` notebook.   You can open and interact\n",
    "with the notebook through one of sites recommended at\n",
    "its [github](https://github.com/gpfeiffer/cs4423) repository.\n",
    "\n",
    "Or, you can\n",
    "install and use `jupyter` as a `python` package on your own laptop or PC.  "
   ]
  },
  {
   "cell_type": "markdown",
   "metadata": {},
   "source": [
    "The following command loads the `networkx` package into the current session.  \n",
    "The next command specifies some standard options that can be useful for drawing graphs.  \n",
    "\n",
    "In order to execute the code in a box,\n",
    "use the mouse or arrow keys to highlight the box and then press SHIFT-RETURN."
   ]
  },
  {
   "cell_type": "code",
   "execution_count": null,
   "metadata": {},
   "outputs": [],
   "source": [
    "import networkx as nx\n",
    "opts = { \"with_labels\": True, \"node_color\": 'y' }"
   ]
  },
  {
   "cell_type": "markdown",
   "metadata": {},
   "source": [
    "Should it ever happen that the notebook becomes unusable, start again with a fresh copy."
   ]
  },
  {
   "cell_type": "markdown",
   "metadata": {},
   "source": [
    "##  1. Warmup.\n",
    "\n",
    "The purpose of this task is to get you used to working with the `networkx` package\n",
    "in the `jupyter` notebook environment.\n",
    "\n",
    "1. Define a new (simple) graph `G` on the vertex set $X = \\{0, 1, 2, 3, 4, 5, 6, 7, 8, 9\\}$\n",
    "with edges $0-1$, $1-2$, $2-3$, $3-4$, $4-5$, $5-6$, $6-7$, $7-8$, $8-9$, and $9-0$.\n",
    "Draw the graph.  Hence or otherwise determine its **order** (the number of nodes)\n",
    "and its **size** (the number of links)."
   ]
  },
  {
   "cell_type": "code",
   "execution_count": null,
   "metadata": {},
   "outputs": [],
   "source": []
  },
  {
   "cell_type": "markdown",
   "metadata": {},
   "source": [
    "2. Find the **adjacency matrix** $A$ of the graph `G`.  Then compute its square, $A^2$,\n",
    "and draw the graph `G2` that has $A^2$ as its adjacency matrix.  What are the connected components of `G2`? "
   ]
  },
  {
   "cell_type": "code",
   "execution_count": null,
   "metadata": {},
   "outputs": [],
   "source": []
  },
  {
   "cell_type": "markdown",
   "metadata": {},
   "source": [
    "##  2.  Projections"
   ]
  },
  {
   "cell_type": "markdown",
   "metadata": {},
   "source": [
    "Suppose that $G$ is a bipartite graph on a vertex set that is the disjoint union of two sets $X$ and $Y$, where each edge\n",
    "connects a verte in $X$ to a vertex in $Y$.  The **projection** of $G$ onto the set $X$\n",
    "is the graph with vertex set $X$, where any two elements are joined by an edge whenever\n",
    "they are joined to a common element $y \\in Y$ in the graph $G$.  \n",
    "The adjacency matrix of the projection can be derived from the square $A^2$ of the adjacency matrix\n",
    "$A$ of $G$."
   ]
  },
  {
   "cell_type": "markdown",
   "metadata": {},
   "source": [
    "Consider the affilliation network below, with $11$ people labelled $A$ to $K$,\n",
    "and four foci labelled $1$, $2$, $3$ and $4$, \n",
    "\n",
    "![bipartite graph](images/bipartite.png)\n",
    "\n",
    "1.  Compute the adjacency matrix of $G$.\n",
    "\n",
    "2. Draw the projection on (just)\n",
    "   the people, in which two people are joined by an edge if they have a common\n",
    "   focus.\n",
    "   (Of course, one can do this easily by hand.  It would be nice to get\n",
    "   `networkx` to do it for you.)\n",
    "\n",
    "3. Compute the adjacency matrix $B$ of the projection\n",
    "   and compare it to $A^2$.  What do you observe?"
   ]
  },
  {
   "cell_type": "code",
   "execution_count": null,
   "metadata": {},
   "outputs": [],
   "source": []
  },
  {
   "cell_type": "markdown",
   "metadata": {},
   "source": [
    "... text goes here ..."
   ]
  },
  {
   "cell_type": "markdown",
   "metadata": {},
   "source": [
    "## 3. Random Trees"
   ]
  },
  {
   "cell_type": "markdown",
   "metadata": {},
   "source": [
    "The `nx.random_tree(n)` command can be used to generate a random tree on the `n` vertices\n",
    "represented in `python` by `range(n)`.\n",
    "\n",
    "Such a tree can be converted into a sequence of $n - 2$ numbers, its **Prüfer code** by the\n",
    "`python` function `pruefer_code`, defined as follows:"
   ]
  },
  {
   "cell_type": "code",
   "execution_count": null,
   "metadata": {},
   "outputs": [],
   "source": [
    "def pruefer_node(tree):\n",
    "    for x in tree:\n",
    "        if tree.degree(x) == 1:\n",
    "            for y in tree[x]:\n",
    "                tree.remove_node(x)\n",
    "                return y\n",
    "\n",
    "def pruefer_code(T):\n",
    "    tree = T.copy()\n",
    "    return [pruefer_node(tree) for k in range(tree.order() - 2)]"
   ]
  },
  {
   "cell_type": "code",
   "execution_count": null,
   "metadata": {},
   "outputs": [],
   "source": [
    "T = nx.random_tree(12)"
   ]
  },
  {
   "cell_type": "code",
   "execution_count": null,
   "metadata": {},
   "outputs": [],
   "source": [
    "code = pruefer_code(T)\n",
    "code"
   ]
  },
  {
   "cell_type": "markdown",
   "metadata": {},
   "source": [
    "Conversely, the following function `tree_pruefer` constructs a tree from a\n",
    "Prüfer code."
   ]
  },
  {
   "cell_type": "code",
   "execution_count": null,
   "metadata": {},
   "outputs": [],
   "source": [
    "def tree_pruefer(code):\n",
    "\n",
    "    # initialize graph and defects\n",
    "    n = len(code) + 2\n",
    "    tree = nx.empty_graph(n)\n",
    "    defects = [1 for x in tree]\n",
    "    for y in code:\n",
    "        defects[y] += 1\n",
    "        \n",
    "    # add edges\n",
    "    for y in code:\n",
    "        for x in tree:\n",
    "            if defects[x] == 1:\n",
    "                tree.add_edge(x, y)\n",
    "                for z in (x, y):\n",
    "                    defects[z] -= 1\n",
    "                break\n",
    "                \n",
    "    # final edge\n",
    "    e = [x for x in tree if defects[x] == 1]\n",
    "    tree.add_edge(*e)\n",
    "    \n",
    "    return tree"
   ]
  },
  {
   "cell_type": "code",
   "execution_count": null,
   "metadata": {},
   "outputs": [],
   "source": [
    "T2 = tree_pruefer(code)"
   ]
  },
  {
   "cell_type": "markdown",
   "metadata": {},
   "source": [
    "1. Construct a few random trees on $n = 10, 11, 12, \\ldots$ nodes.  For each such tree,\n",
    "   draw it, compute its Prüfer code and then convert the code back into a tree.\n",
    "   Do you get your old tree back?\n",
    "\n",
    "2. For a few randomly chosen Prüfer codes, construct the corresponding tree, \n",
    "   draw it if you want, and convert it back into a Prüfer code.\n",
    "   Do you get your olc code back?\n",
    "   \n",
    "3. Which tree on $n$ nodes corresponds to the Prüfer code \n",
    "   consisting of $n-2$ entries $0$?"
   ]
  },
  {
   "cell_type": "code",
   "execution_count": null,
   "metadata": {},
   "outputs": [],
   "source": []
  },
  {
   "cell_type": "markdown",
   "metadata": {},
   "source": [
    "... text goes here ..."
   ]
  },
  {
   "cell_type": "markdown",
   "metadata": {},
   "source": [
    "## 4. Breadth First Search."
   ]
  },
  {
   "cell_type": "markdown",
   "metadata": {},
   "source": [
    "Breadth First Search (BFS) is a versatile and efficient strategy for systematically visiting\n",
    "all the nodes in a graph.\n",
    "\n",
    "Given a graph $G = (X, E)$ and a starting point $x \\in X$, BFS can be described as the following sequence of steps.\n",
    "\n",
    "1. mark all nodes of $G$ as \"unseen\".\n",
    "\n",
    "2. initialize a list `seen = [x]` and mark `x` as seen.\n",
    "\n",
    "3. loop over the elements `y` in the list `seen` and, in each step, visit the\n",
    "   node `y` and add all of `y`'s neighbors that have not been marked as \"seen\"\n",
    "   to the list `seen` and mark them as seen.\n"
   ]
  },
  {
   "cell_type": "markdown",
   "metadata": {},
   "source": [
    "### For Example\n",
    "\n",
    "Consider the graph on the vertex set `\"ABCDEFGHIJ\"`\n",
    "defined in the nearby file `data/bfs.adj` by adjacency lists."
   ]
  },
  {
   "cell_type": "code",
   "execution_count": null,
   "metadata": {},
   "outputs": [],
   "source": [
    "G = nx.read_adjlist(\"data/bfs.adj\")\n",
    "nx.draw(G, **opts)"
   ]
  },
  {
   "cell_type": "markdown",
   "metadata": {},
   "source": [
    "Let's say we want to start exploring the graph at vertex `'A'`"
   ]
  },
  {
   "cell_type": "code",
   "execution_count": null,
   "metadata": {},
   "outputs": [],
   "source": [
    "x = 'A'"
   ]
  },
  {
   "cell_type": "markdown",
   "metadata": {},
   "source": [
    "**Step 1.** For each of its nodes `x`, the graph object `G` maintains in `G.nodes[x]` a `python` dictionary\n",
    "that can be used store arbirary attributes of the nodes.  We can use it for an attribute `'seen'`,\n",
    "which is set to `True` or `False`, depending on whether the node has already been seen by this instance \n",
    "of BFS, or not.  Initially it would be false for all nodes."
   ]
  },
  {
   "cell_type": "code",
   "execution_count": null,
   "metadata": {
    "slideshow": {
     "slide_type": "fragment"
    }
   },
   "outputs": [],
   "source": [
    "G.nodes[x]"
   ]
  },
  {
   "cell_type": "code",
   "execution_count": null,
   "metadata": {},
   "outputs": [],
   "source": [
    "for y in G:\n",
    "    G.nodes[y]['seen'] = False"
   ]
  },
  {
   "cell_type": "markdown",
   "metadata": {},
   "source": [
    "**Step 2.** Initialize a `python` list `seen` to contain `x` only, and set `x`'s `'seen'` attribute to `True`."
   ]
  },
  {
   "cell_type": "code",
   "execution_count": null,
   "metadata": {},
   "outputs": [],
   "source": [
    "seen = [x]\n",
    "G.nodes[x]['seen'] = True"
   ]
  },
  {
   "cell_type": "markdown",
   "metadata": {},
   "source": [
    "**Step 3.**  The loop over `seen`.  For each node `y` in the list, print `y`, then\n",
    "add all of `y`'s unseen neighbors to the end of the list `seen` and mark them\n",
    "as `\"seen\"`.  Note how the list `seen` initially has only one element, but grows\n",
    "over time, until no more new nodes are detected.  \n",
    "The loop automatically terminates when the end of the list `seen` has been reached."
   ]
  },
  {
   "cell_type": "code",
   "execution_count": null,
   "metadata": {},
   "outputs": [],
   "source": [
    "for y in seen:\n",
    "    print(y)\n",
    "    for z in G.neighbors(y):\n",
    "        if not G.nodes[z]['seen']:\n",
    "            seen.append(z)\n",
    "            G.nodes[z]['seen'] = True"
   ]
  },
  {
   "cell_type": "markdown",
   "metadata": {},
   "source": [
    "In a variant of the same BFS strategy, on can construct a tree on the vertex set $X$ that\n",
    "records the history of how the nodes in the graph $G$ were discovered."
   ]
  },
  {
   "cell_type": "code",
   "execution_count": null,
   "metadata": {},
   "outputs": [],
   "source": [
    "x = 'A'"
   ]
  },
  {
   "cell_type": "markdown",
   "metadata": {},
   "source": [
    "We set up an empty graph `T` to eventually contain the tree."
   ]
  },
  {
   "cell_type": "code",
   "execution_count": null,
   "metadata": {},
   "outputs": [],
   "source": [
    "T = nx.Graph()"
   ]
  },
  {
   "cell_type": "markdown",
   "metadata": {},
   "source": [
    "From here it's essentially the same procedure as above ..."
   ]
  },
  {
   "cell_type": "code",
   "execution_count": null,
   "metadata": {},
   "outputs": [],
   "source": [
    "for y in G:\n",
    "    G.nodes[y]['seen'] = False"
   ]
  },
  {
   "cell_type": "markdown",
   "metadata": {},
   "source": [
    "... except that we need to add the initial vertex `x` to `T` ..."
   ]
  },
  {
   "cell_type": "code",
   "execution_count": null,
   "metadata": {},
   "outputs": [],
   "source": [
    "T.add_node(x)\n",
    "seen = [x]\n",
    "G.nodes[x]['seen'] = True"
   ]
  },
  {
   "cell_type": "markdown",
   "metadata": {},
   "source": [
    "... and instead of printing `y`, we add the edges leading to `y`'s children to the tree `T`."
   ]
  },
  {
   "cell_type": "code",
   "execution_count": null,
   "metadata": {},
   "outputs": [],
   "source": [
    "for y in seen:\n",
    "    for z in G.neighbors(y):\n",
    "        if not G.nodes[z]['seen']:\n",
    "            T.add_edge(y, z)\n",
    "            seen.append(z)\n",
    "            G.nodes[z]['seen'] = True"
   ]
  },
  {
   "cell_type": "markdown",
   "metadata": {},
   "source": [
    "The resulting tree `T` is called a **spanning tree** of the graph `G`."
   ]
  },
  {
   "cell_type": "code",
   "execution_count": null,
   "metadata": {},
   "outputs": [],
   "source": [
    "nx.draw(T, **opts)"
   ]
  },
  {
   "cell_type": "markdown",
   "metadata": {},
   "source": [
    "1. Print out all the nodes of `G` as discovered when the starting point is node `B`.\n",
    "2. Construct a spanning tree of the graph `G` with node `B` as starting point.\n",
    "3. Repeat 1 and 2 for one more starting node.\n",
    "4. Is there a sense of distance between nodes that becomes apparent through these traversals?\n",
    "   Could a variant of BFS be used to compute such distances between nodes in `G`?"
   ]
  },
  {
   "cell_type": "code",
   "execution_count": null,
   "metadata": {},
   "outputs": [],
   "source": []
  },
  {
   "cell_type": "markdown",
   "metadata": {},
   "source": [
    " ... text goes here ..."
   ]
  }
 ],
 "metadata": {
  "kernelspec": {
   "display_name": "Python 3",
   "language": "python",
   "name": "python3"
  },
  "language_info": {
   "codemirror_mode": {
    "name": "ipython",
    "version": 3
   },
   "file_extension": ".py",
   "mimetype": "text/x-python",
   "name": "python",
   "nbconvert_exporter": "python",
   "pygments_lexer": "ipython3",
   "version": "3.8.5"
  }
 },
 "nbformat": 4,
 "nbformat_minor": 2
}
